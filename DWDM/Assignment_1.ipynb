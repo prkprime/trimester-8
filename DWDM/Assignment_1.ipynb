{
 "cells": [
  {
   "cell_type": "code",
   "execution_count": 2,
   "metadata": {},
   "outputs": [],
   "source": [
    "#importing libraries\n",
    "import numpy as np\n",
    "import pandas as pd\n",
    "import matplotlib.pyplot as plt\n",
    "import seaborn as sns\n",
    "from sklearn.preprocessing import normalize\n",
    "from sklearn.preprocessing import MinMaxScaler"
   ]
  },
  {
   "cell_type": "code",
   "execution_count": 8,
   "metadata": {},
   "outputs": [
    {
     "data": {
      "text/plain": [
       "(4572, 20)"
      ]
     },
     "execution_count": 8,
     "metadata": {},
     "output_type": "execute_result"
    }
   ],
   "source": [
    "#loading datasets\n",
    "wc_data = pd.read_csv('/home/prk/Downloads/WorldCupMatches.csv')\n",
    "wc_data.shape"
   ]
  },
  {
   "cell_type": "code",
   "execution_count": 9,
   "metadata": {},
   "outputs": [
    {
     "data": {
      "text/plain": [
       "(850, 20)"
      ]
     },
     "execution_count": 9,
     "metadata": {},
     "output_type": "execute_result"
    }
   ],
   "source": [
    "wc_data = wc_data.dropna()\n",
    "wc_data.shape"
   ]
  },
  {
   "cell_type": "code",
   "execution_count": 10,
   "metadata": {},
   "outputs": [
    {
     "data": {
      "text/plain": [
       "(835, 20)"
      ]
     },
     "execution_count": 10,
     "metadata": {},
     "output_type": "execute_result"
    }
   ],
   "source": [
    "wc_data = wc_data.drop_duplicates()\n",
    "wc_data.shape"
   ]
  },
  {
   "cell_type": "code",
   "execution_count": 16,
   "metadata": {
    "scrolled": true
   },
   "outputs": [
    {
     "data": {
      "text/plain": [
       "<matplotlib.axes._subplots.AxesSubplot at 0x7fa74d6e68e0>"
      ]
     },
     "execution_count": 16,
     "metadata": {},
     "output_type": "execute_result"
    },
    {
     "data": {
      "image/png": "[encoded data removed]",
      "text/plain": [
       "<Figure size 432x288 with 1 Axes>"
      ]
     },
     "metadata": {
      "needs_background": "light"
     },
     "output_type": "display_data"
    }
   ],
   "source": [
    "sns.distplot(wc_data['Attendance'])"
   ]
  },
  {
   "cell_type": "code",
   "execution_count": 17,
   "metadata": {},
   "outputs": [
    {
     "data": {
      "text/html": [
       "<div>\n",
       "<style scoped>\n",
       "    .dataframe tbody tr th:only-of-type {\n",
       "        vertical-align: middle;\n",
       "    }\n",
       "\n",
       "    .dataframe tbody tr th {\n",
       "        vertical-align: top;\n",
       "    }\n",
       "\n",
       "    .dataframe thead th {\n",
       "        text-align: right;\n",
       "    }\n",
       "</style>\n",
       "<table border=\"1\" class=\"dataframe\">\n",
       "  <thead>\n",
       "    <tr style=\"text-align: right;\">\n",
       "      <th></th>\n",
       "      <th>Year</th>\n",
       "      <th>Home Team Goals</th>\n",
       "      <th>Away Team Goals</th>\n",
       "      <th>Attendance</th>\n",
       "      <th>Half-time Home Goals</th>\n",
       "      <th>Half-time Away Goals</th>\n",
       "      <th>RoundID</th>\n",
       "      <th>MatchID</th>\n",
       "    </tr>\n",
       "  </thead>\n",
       "  <tbody>\n",
       "    <tr>\n",
       "      <th>Year</th>\n",
       "      <td>1.000000</td>\n",
       "      <td>-0.378924</td>\n",
       "      <td>0.077580</td>\n",
       "      <td>0.304310</td>\n",
       "      <td>-0.280139</td>\n",
       "      <td>0.020335</td>\n",
       "      <td>0.359771</td>\n",
       "      <td>0.620155</td>\n",
       "    </tr>\n",
       "    <tr>\n",
       "      <th>Home Team Goals</th>\n",
       "      <td>-0.378924</td>\n",
       "      <td>1.000000</td>\n",
       "      <td>0.014605</td>\n",
       "      <td>-0.112661</td>\n",
       "      <td>0.730326</td>\n",
       "      <td>-0.004549</td>\n",
       "      <td>-0.113756</td>\n",
       "      <td>-0.188649</td>\n",
       "    </tr>\n",
       "    <tr>\n",
       "      <th>Away Team Goals</th>\n",
       "      <td>0.077580</td>\n",
       "      <td>0.014605</td>\n",
       "      <td>1.000000</td>\n",
       "      <td>-0.029360</td>\n",
       "      <td>-0.003506</td>\n",
       "      <td>0.679136</td>\n",
       "      <td>-0.005214</td>\n",
       "      <td>0.087400</td>\n",
       "    </tr>\n",
       "    <tr>\n",
       "      <th>Attendance</th>\n",
       "      <td>0.304310</td>\n",
       "      <td>-0.112661</td>\n",
       "      <td>-0.029360</td>\n",
       "      <td>1.000000</td>\n",
       "      <td>-0.121797</td>\n",
       "      <td>-0.040929</td>\n",
       "      <td>0.074917</td>\n",
       "      <td>0.143524</td>\n",
       "    </tr>\n",
       "    <tr>\n",
       "      <th>Half-time Home Goals</th>\n",
       "      <td>-0.280139</td>\n",
       "      <td>0.730326</td>\n",
       "      <td>-0.003506</td>\n",
       "      <td>-0.121797</td>\n",
       "      <td>1.000000</td>\n",
       "      <td>0.026466</td>\n",
       "      <td>-0.060103</td>\n",
       "      <td>-0.149213</td>\n",
       "    </tr>\n",
       "    <tr>\n",
       "      <th>Half-time Away Goals</th>\n",
       "      <td>0.020335</td>\n",
       "      <td>-0.004549</td>\n",
       "      <td>0.679136</td>\n",
       "      <td>-0.040929</td>\n",
       "      <td>0.026466</td>\n",
       "      <td>1.000000</td>\n",
       "      <td>0.012896</td>\n",
       "      <td>0.061689</td>\n",
       "    </tr>\n",
       "    <tr>\n",
       "      <th>RoundID</th>\n",
       "      <td>0.359771</td>\n",
       "      <td>-0.113756</td>\n",
       "      <td>-0.005214</td>\n",
       "      <td>0.074917</td>\n",
       "      <td>-0.060103</td>\n",
       "      <td>0.012896</td>\n",
       "      <td>1.000000</td>\n",
       "      <td>0.092878</td>\n",
       "    </tr>\n",
       "    <tr>\n",
       "      <th>MatchID</th>\n",
       "      <td>0.620155</td>\n",
       "      <td>-0.188649</td>\n",
       "      <td>0.087400</td>\n",
       "      <td>0.143524</td>\n",
       "      <td>-0.149213</td>\n",
       "      <td>0.061689</td>\n",
       "      <td>0.092878</td>\n",
       "      <td>1.000000</td>\n",
       "    </tr>\n",
       "  </tbody>\n",
       "</table>\n",
       "</div>"
      ],
      "text/plain": [
       "                          Year  Home Team Goals  Away Team Goals  Attendance  \\\n",
       "Year                  1.000000        -0.378924         0.077580    0.304310   \n",
       "Home Team Goals      -0.378924         1.000000         0.014605   -0.112661   \n",
       "Away Team Goals       0.077580         0.014605         1.000000   -0.029360   \n",
       "Attendance            0.304310        -0.112661        -0.029360    1.000000   \n",
       "Half-time Home Goals -0.280139         0.730326        -0.003506   -0.121797   \n",
       "Half-time Away Goals  0.020335        -0.004549         0.679136   -0.040929   \n",
       "RoundID               0.359771        -0.113756        -0.005214    0.074917   \n",
       "MatchID               0.620155        -0.188649         0.087400    0.143524   \n",
       "\n",
       "                      Half-time Home Goals  Half-time Away Goals   RoundID  \\\n",
       "Year                             -0.280139              0.020335  0.359771   \n",
       "Home Team Goals                   0.730326             -0.004549 -0.113756   \n",
       "Away Team Goals                  -0.003506              0.679136 -0.005214   \n",
       "Attendance                       -0.121797             -0.040929  0.074917   \n",
       "Half-time Home Goals              1.000000              0.026466 -0.060103   \n",
       "Half-time Away Goals              0.026466              1.000000  0.012896   \n",
       "RoundID                          -0.060103              0.012896  1.000000   \n",
       "MatchID                          -0.149213              0.061689  0.092878   \n",
       "\n",
       "                       MatchID  \n",
       "Year                  0.620155  \n",
       "Home Team Goals      -0.188649  \n",
       "Away Team Goals       0.087400  \n",
       "Attendance            0.143524  \n",
       "Half-time Home Goals -0.149213  \n",
       "Half-time Away Goals  0.061689  \n",
       "RoundID               0.092878  \n",
       "MatchID               1.000000  "
      ]
     },
     "execution_count": 17,
     "metadata": {},
     "output_type": "execute_result"
    }
   ],
   "source": [
    "wc_data.corr()"
   ]
  },
  {
   "cell_type": "code",
   "execution_count": 18,
   "metadata": {
    "scrolled": true
   },
   "outputs": [
    {
     "data": {
      "text/plain": [
       "<matplotlib.axes._subplots.AxesSubplot at 0x7fa74d51d340>"
      ]
     },
     "execution_count": 18,
     "metadata": {},
     "output_type": "execute_result"
    },
    {
     "data": {
      "image/png": "[encoded data removed]",
      "text/plain": [
       "<Figure size 432x288 with 2 Axes>"
      ]
     },
     "metadata": {
      "needs_background": "light"
     },
     "output_type": "display_data"
    }
   ],
   "source": [
    "sns.heatmap(wc_data.corr(), annot=True)"
   ]
  },
  {
   "cell_type": "code",
   "execution_count": 19,
   "metadata": {},
   "outputs": [],
   "source": [
    "wc_data[['Attendance', 'Home Team Goals', 'Away Team Goals', 'Half-time Home Goals', 'Half-time Away Goals']] =MinMaxScaler().fit_transform(wc_data[['Attendance', 'Home Team Goals', 'Away Team Goals', 'Half-time Home Goals', 'Half-time Away Goals']])"
   ]
  },
  {
   "cell_type": "code",
   "execution_count": 20,
   "metadata": {},
   "outputs": [],
   "source": [
    "wc_data = wc_data.applymap(lambda s:s.title() if type(s) == str else s)"
   ]
  },
  {
   "cell_type": "code",
   "execution_count": 22,
   "metadata": {},
   "outputs": [
    {
     "data": {
      "text/html": [
       "<div>\n",
       "<style scoped>\n",
       "    .dataframe tbody tr th:only-of-type {\n",
       "        vertical-align: middle;\n",
       "    }\n",
       "\n",
       "    .dataframe tbody tr th {\n",
       "        vertical-align: top;\n",
       "    }\n",
       "\n",
       "    .dataframe thead th {\n",
       "        text-align: right;\n",
       "    }\n",
       "</style>\n",
       "<table border=\"1\" class=\"dataframe\">\n",
       "  <thead>\n",
       "    <tr style=\"text-align: right;\">\n",
       "      <th></th>\n",
       "      <th>Year</th>\n",
       "      <th>Datetime</th>\n",
       "      <th>Stage</th>\n",
       "      <th>Stadium</th>\n",
       "      <th>City</th>\n",
       "      <th>Home Team Name</th>\n",
       "      <th>Home Team Goals</th>\n",
       "      <th>Away Team Goals</th>\n",
       "      <th>Away Team Name</th>\n",
       "      <th>Win conditions</th>\n",
       "      <th>Attendance</th>\n",
       "      <th>Half-time Home Goals</th>\n",
       "      <th>Half-time Away Goals</th>\n",
       "      <th>Referee</th>\n",
       "      <th>Assistant 1</th>\n",
       "      <th>Assistant 2</th>\n",
       "      <th>RoundID</th>\n",
       "      <th>MatchID</th>\n",
       "      <th>Home Team Initials</th>\n",
       "      <th>Away Team Initials</th>\n",
       "    </tr>\n",
       "  </thead>\n",
       "  <tbody>\n",
       "    <tr>\n",
       "      <th>0</th>\n",
       "      <td>1930.0</td>\n",
       "      <td>13 Jul 1930 - 15:00</td>\n",
       "      <td>Group 1</td>\n",
       "      <td>Pocitos</td>\n",
       "      <td>Montevideo</td>\n",
       "      <td>France</td>\n",
       "      <td>0.4</td>\n",
       "      <td>0.142857</td>\n",
       "      <td>Mexico</td>\n",
       "      <td></td>\n",
       "      <td>0.014222</td>\n",
       "      <td>0.500000</td>\n",
       "      <td>0.0</td>\n",
       "      <td>Lombardi Domingo (Uru)</td>\n",
       "      <td>Cristophe Henry (Bel)</td>\n",
       "      <td>Rego Gilberto (Bra)</td>\n",
       "      <td>201.0</td>\n",
       "      <td>1096.0</td>\n",
       "      <td>Fra</td>\n",
       "      <td>Mex</td>\n",
       "    </tr>\n",
       "    <tr>\n",
       "      <th>1</th>\n",
       "      <td>1930.0</td>\n",
       "      <td>13 Jul 1930 - 15:00</td>\n",
       "      <td>Group 4</td>\n",
       "      <td>Parque Central</td>\n",
       "      <td>Montevideo</td>\n",
       "      <td>Usa</td>\n",
       "      <td>0.3</td>\n",
       "      <td>0.000000</td>\n",
       "      <td>Belgium</td>\n",
       "      <td></td>\n",
       "      <td>0.095118</td>\n",
       "      <td>0.333333</td>\n",
       "      <td>0.0</td>\n",
       "      <td>Macias Jose (Arg)</td>\n",
       "      <td>Mateucci Francisco (Uru)</td>\n",
       "      <td>Warnken Alberto (Chi)</td>\n",
       "      <td>201.0</td>\n",
       "      <td>1090.0</td>\n",
       "      <td>Usa</td>\n",
       "      <td>Bel</td>\n",
       "    </tr>\n",
       "    <tr>\n",
       "      <th>2</th>\n",
       "      <td>1930.0</td>\n",
       "      <td>14 Jul 1930 - 12:45</td>\n",
       "      <td>Group 2</td>\n",
       "      <td>Parque Central</td>\n",
       "      <td>Montevideo</td>\n",
       "      <td>Yugoslavia</td>\n",
       "      <td>0.2</td>\n",
       "      <td>0.142857</td>\n",
       "      <td>Brazil</td>\n",
       "      <td></td>\n",
       "      <td>0.128362</td>\n",
       "      <td>0.333333</td>\n",
       "      <td>0.0</td>\n",
       "      <td>Tejada Anibal (Uru)</td>\n",
       "      <td>Vallarino Ricardo (Uru)</td>\n",
       "      <td>Balway Thomas (Fra)</td>\n",
       "      <td>201.0</td>\n",
       "      <td>1093.0</td>\n",
       "      <td>Yug</td>\n",
       "      <td>Bra</td>\n",
       "    </tr>\n",
       "    <tr>\n",
       "      <th>3</th>\n",
       "      <td>1930.0</td>\n",
       "      <td>14 Jul 1930 - 14:50</td>\n",
       "      <td>Group 3</td>\n",
       "      <td>Pocitos</td>\n",
       "      <td>Montevideo</td>\n",
       "      <td>Romania</td>\n",
       "      <td>0.3</td>\n",
       "      <td>0.142857</td>\n",
       "      <td>Peru</td>\n",
       "      <td></td>\n",
       "      <td>0.003195</td>\n",
       "      <td>0.166667</td>\n",
       "      <td>0.0</td>\n",
       "      <td>Warnken Alberto (Chi)</td>\n",
       "      <td>Langenus Jean (Bel)</td>\n",
       "      <td>Mateucci Francisco (Uru)</td>\n",
       "      <td>201.0</td>\n",
       "      <td>1098.0</td>\n",
       "      <td>Rou</td>\n",
       "      <td>Per</td>\n",
       "    </tr>\n",
       "    <tr>\n",
       "      <th>4</th>\n",
       "      <td>1930.0</td>\n",
       "      <td>15 Jul 1930 - 16:00</td>\n",
       "      <td>Group 1</td>\n",
       "      <td>Parque Central</td>\n",
       "      <td>Montevideo</td>\n",
       "      <td>Argentina</td>\n",
       "      <td>0.1</td>\n",
       "      <td>0.000000</td>\n",
       "      <td>France</td>\n",
       "      <td></td>\n",
       "      <td>0.124580</td>\n",
       "      <td>0.000000</td>\n",
       "      <td>0.0</td>\n",
       "      <td>Rego Gilberto (Bra)</td>\n",
       "      <td>Saucedo Ulises (Bol)</td>\n",
       "      <td>Radulescu Constantin (Rou)</td>\n",
       "      <td>201.0</td>\n",
       "      <td>1085.0</td>\n",
       "      <td>Arg</td>\n",
       "      <td>Fra</td>\n",
       "    </tr>\n",
       "  </tbody>\n",
       "</table>\n",
       "</div>"
      ],
      "text/plain": [
       "     Year              Datetime    Stage         Stadium         City  \\\n",
       "0  1930.0  13 Jul 1930 - 15:00   Group 1         Pocitos  Montevideo    \n",
       "1  1930.0  13 Jul 1930 - 15:00   Group 4  Parque Central  Montevideo    \n",
       "2  1930.0  14 Jul 1930 - 12:45   Group 2  Parque Central  Montevideo    \n",
       "3  1930.0  14 Jul 1930 - 14:50   Group 3         Pocitos  Montevideo    \n",
       "4  1930.0  15 Jul 1930 - 16:00   Group 1  Parque Central  Montevideo    \n",
       "\n",
       "  Home Team Name  Home Team Goals  Away Team Goals Away Team Name  \\\n",
       "0         France              0.4         0.142857         Mexico   \n",
       "1            Usa              0.3         0.000000        Belgium   \n",
       "2     Yugoslavia              0.2         0.142857         Brazil   \n",
       "3        Romania              0.3         0.142857           Peru   \n",
       "4      Argentina              0.1         0.000000         France   \n",
       "\n",
       "  Win conditions  Attendance  Half-time Home Goals  Half-time Away Goals  \\\n",
       "0                   0.014222              0.500000                   0.0   \n",
       "1                   0.095118              0.333333                   0.0   \n",
       "2                   0.128362              0.333333                   0.0   \n",
       "3                   0.003195              0.166667                   0.0   \n",
       "4                   0.124580              0.000000                   0.0   \n",
       "\n",
       "                  Referee               Assistant 1  \\\n",
       "0  Lombardi Domingo (Uru)     Cristophe Henry (Bel)   \n",
       "1       Macias Jose (Arg)  Mateucci Francisco (Uru)   \n",
       "2     Tejada Anibal (Uru)   Vallarino Ricardo (Uru)   \n",
       "3   Warnken Alberto (Chi)       Langenus Jean (Bel)   \n",
       "4     Rego Gilberto (Bra)      Saucedo Ulises (Bol)   \n",
       "\n",
       "                  Assistant 2  RoundID  MatchID Home Team Initials  \\\n",
       "0         Rego Gilberto (Bra)    201.0   1096.0                Fra   \n",
       "1       Warnken Alberto (Chi)    201.0   1090.0                Usa   \n",
       "2         Balway Thomas (Fra)    201.0   1093.0                Yug   \n",
       "3    Mateucci Francisco (Uru)    201.0   1098.0                Rou   \n",
       "4  Radulescu Constantin (Rou)    201.0   1085.0                Arg   \n",
       "\n",
       "  Away Team Initials  \n",
       "0                Mex  \n",
       "1                Bel  \n",
       "2                Bra  \n",
       "3                Per  \n",
       "4                Fra  "
      ]
     },
     "execution_count": 22,
     "metadata": {},
     "output_type": "execute_result"
    }
   ],
   "source": [
    "wc_data.head()"
   ]
  },
  {
   "cell_type": "code",
   "execution_count": null,
   "metadata": {},
   "outputs": [],
   "source": []
  }
 ],
 "metadata": {
  "kernelspec": {
   "display_name": "Python 3",
   "language": "python",
   "name": "python3"
  },
  "language_info": {
   "codemirror_mode": {
    "name": "ipython",
    "version": 3
   },
   "file_extension": ".py",
   "mimetype": "text/x-python",
   "name": "python",
   "nbconvert_exporter": "python",
   "pygments_lexer": "ipython3",
   "version": "3.8.1"
  }
 },
 "nbformat": 4,
 "nbformat_minor": 2
}
