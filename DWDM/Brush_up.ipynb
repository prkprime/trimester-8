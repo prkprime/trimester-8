{
 "cells": [
  {
   "cell_type": "code",
   "execution_count": 1,
   "metadata": {},
   "outputs": [
    {
     "name": "stdout",
     "output_type": "stream",
     "text": [
      "['Pratik', 'Raghav', 'Pranav']\n"
     ]
    }
   ],
   "source": [
    "a = ['Pratik', 'Raghav', 'Pranav']\n",
    "print(a)"
   ]
  },
  {
   "cell_type": "code",
   "execution_count": 2,
   "metadata": {},
   "outputs": [
    {
     "name": "stdout",
     "output_type": "stream",
     "text": [
      "(1, 2, 3, 4)\n"
     ]
    }
   ],
   "source": [
    "b = (1, 2, 3, 4)\n",
    "print(b)"
   ]
  },
  {
   "cell_type": "code",
   "execution_count": 3,
   "metadata": {},
   "outputs": [
    {
     "name": "stdout",
     "output_type": "stream",
     "text": [
      "{'name': 'Pratik Gorade', 'roll_no': 'PB02', 'email_id': 'prkprime07@gmail.com'}\n"
     ]
    }
   ],
   "source": [
    "dict1 = {'name':'Pratik Gorade', 'roll_no':'PB02', 'email_id':'prkprime07@gmail.com'}\n",
    "print(dict1)"
   ]
  },
  {
   "cell_type": "code",
   "execution_count": 4,
   "metadata": {},
   "outputs": [
    {
     "name": "stdout",
     "output_type": "stream",
     "text": [
      "{'name': ['Pratik', 'Pranav', 'nayan'], 'roll_no': ['PB02', 'PB16', 'PB36'], 'email_id': ['prkprime007@gmail.com', 'pranavbakre@yahoomail.com', 'nayankakuste1@gmail.com']}\n"
     ]
    }
   ],
   "source": [
    "dict2 = {'name':['Pratik', 'Pranav', 'nayan'], 'roll_no':['PB02', 'PB16', 'PB36'],\n",
    "         'email_id':['prkprime007@gmail.com','pranavbakre@yahoomail.com', 'nayankakuste1@gmail.com']}\n",
    "print(dict2)"
   ]
  },
  {
   "cell_type": "code",
   "execution_count": 5,
   "metadata": {},
   "outputs": [
    {
     "data": {
      "text/plain": [
       "dict_keys(['name', 'roll_no', 'email_id'])"
      ]
     },
     "execution_count": 5,
     "metadata": {},
     "output_type": "execute_result"
    }
   ],
   "source": [
    "dict2.keys()"
   ]
  },
  {
   "cell_type": "code",
   "execution_count": 6,
   "metadata": {},
   "outputs": [
    {
     "data": {
      "text/plain": [
       "['Pratik', 'Pranav', 'nayan']"
      ]
     },
     "execution_count": 6,
     "metadata": {},
     "output_type": "execute_result"
    }
   ],
   "source": [
    "dict2.get('name')"
   ]
  },
  {
   "cell_type": "code",
   "execution_count": 7,
   "metadata": {},
   "outputs": [
    {
     "data": {
      "text/plain": [
       "dict_values([['Pratik', 'Pranav', 'nayan'], ['PB02', 'PB16', 'PB36'], ['prkprime007@gmail.com', 'pranavbakre@yahoomail.com', 'nayankakuste1@gmail.com']])"
      ]
     },
     "execution_count": 7,
     "metadata": {},
     "output_type": "execute_result"
    }
   ],
   "source": [
    "dict2.values()"
   ]
  },
  {
   "cell_type": "code",
   "execution_count": 8,
   "metadata": {},
   "outputs": [
    {
     "name": "stdout",
     "output_type": "stream",
     "text": [
      "['Pratik', 'Pranav', 'nayan']\n",
      "['PB02', 'PB16', 'PB36']\n",
      "['prkprime007@gmail.com', 'pranavbakre@yahoomail.com', 'nayankakuste1@gmail.com']\n"
     ]
    }
   ],
   "source": [
    "for key in dict2.keys():\n",
    "    print(dict2.get(key))"
   ]
  },
  {
   "cell_type": "code",
   "execution_count": 9,
   "metadata": {},
   "outputs": [
    {
     "name": "stdout",
     "output_type": "stream",
     "text": [
      "['Pratik', 'Raghav']\n"
     ]
    }
   ],
   "source": [
    "print(a[:2])"
   ]
  },
  {
   "cell_type": "code",
   "execution_count": null,
   "metadata": {},
   "outputs": [],
   "source": []
  }
 ],
 "metadata": {
  "kernelspec": {
   "display_name": "Python 3",
   "language": "python",
   "name": "python3"
  },
  "language_info": {
   "codemirror_mode": {
    "name": "ipython",
    "version": 3
   },
   "file_extension": ".py",
   "mimetype": "text/x-python",
   "name": "python",
   "nbconvert_exporter": "python",
   "pygments_lexer": "ipython3",
   "version": "3.7.4"
  }
 },
 "nbformat": 4,
 "nbformat_minor": 2
}
